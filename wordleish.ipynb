{
 "cells": [
  {
   "cell_type": "markdown",
   "source": [
    "import dictionary\n",
    "cast 5 letter word vector - wordlist\n",
    "user presses New Game\n",
    "select word from vector\n",
    "uses on screen keyboard to press 5 letters\n",
    "presses Enter word\n",
    "checks if word has been guessed yet\n",
    "sorts wordlist for words that meet the yellow and green criteria\n",
    "generates histogram of remaining letters (how many times each letter appears)\n",
    "generates histogram of remaining positions (how many times each letter appears in each position)\n",
    "generate suggestion based on ?\n",
    "present suggestion\n",
    "updates keyboard button colors and colors on the word enetered\n",
    "uses keyboard to enter next word (optional - could use suggestion)\n",
    "updates buttons\n",
    "repeat until word is guessed correctly"
   ],
   "metadata": {}
  },
  {
   "cell_type": "code",
   "execution_count": 129,
   "source": [
    "import tkinter as tk\r\n",
    "from tkinter import ttk\r\n",
    "import pandas as pd\r\n",
    "import numpy as np\r\n",
    "import scipy as sp\r\n",
    "import random"
   ],
   "outputs": [],
   "metadata": {}
  }
 ],
 "metadata": {
  "interpreter": {
   "hash": "b3ba2566441a7c06988d0923437866b63cedc61552a5af99d1f4fb67d367b25f"
  },
  "kernelspec": {
   "name": "python3",
   "display_name": "Python 3.8.8 64-bit ('base': conda)"
  },
  "language_info": {
   "codemirror_mode": {
    "name": "ipython",
    "version": 3
   },
   "file_extension": ".py",
   "mimetype": "text/x-python",
   "name": "python",
   "nbconvert_exporter": "python",
   "pygments_lexer": "ipython3",
   "version": "3.8.8"
  },
  "orig_nbformat": 4
 },
 "nbformat": 4,
 "nbformat_minor": 2
}